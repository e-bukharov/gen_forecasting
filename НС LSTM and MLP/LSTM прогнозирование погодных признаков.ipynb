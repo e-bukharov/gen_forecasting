{
 "cells": [
  {
   "cell_type": "code",
   "execution_count": 420,
   "id": "89517337-91a5-4589-8cf7-16966de3a931",
   "metadata": {},
   "outputs": [],
   "source": [
    "# Импорт необходимых библиотек\n",
    "import numpy as np\n",
    "import keras\n",
    "import matplotlib.pyplot as plt\n",
    "from keras.models import Sequential\n",
    "from keras.layers import LSTM, Dense\n",
    "from sklearn.preprocessing import MinMaxScaler\n",
    "import pandas as pd\n",
    "import sklearn as sk\n",
    "from keras.layers import Dropout\n",
    "from sklearn import metrics"
   ]
  },
  {
   "cell_type": "code",
   "execution_count": 529,
   "id": "6fdb0e1b-a006-40b7-8365-61b31c524617",
   "metadata": {},
   "outputs": [],
   "source": [
    "# Подготовка данных для LSTM\n",
    "def prepare_data(series, look_back=4):\n",
    "    \"\"\"\n",
    "    Метод разбивает полученные данные на последовательности с заданой величиной последовательности look_back\n",
    "    В результает метод возвращает массив Х и у\n",
    "    \"\"\"\n",
    "    X, y = [], []\n",
    "    for i in range(len(series) - look_back):\n",
    "        X.append(series.iloc[i:i + look_back])  # Входные данные (последовательность)\n",
    "        y.append(series.iloc[i + look_back, 0])  # Целевое значение (прогнозируем первый признак)\n",
    "    return np.array(X), np.array(y)\n",
    "\n",
    "# NN creating\n",
    "def create_LSTM_model(n_features, LSTM_units=120, activation_='relu', look_back=4, loss_='mae', dropout=None, optimizer_='adam'):\n",
    "    \"\"\"\n",
    "    В методе собраны все шаги по построение LSTM. Возвращает скомпилированную модель\n",
    "    \"\"\"\n",
    "    model = Sequential()\n",
    "    model.add(LSTM(LSTM_units, activation=activation_, input_shape=(look_back, n_features)))  # LSTM слой с 50 нейронами\n",
    "    if dropout != None:\n",
    "        model.add(Dropout(dropout)) # Вероятность отключения нейрона = значинию Dropout\n",
    "    model.add(Dense(1))  # Выходной слой для прогнозирования одного значения\n",
    "    # model compilating\n",
    "    model.compile(optimizer=optimizer_, loss=loss_, metrics=['mse'])  # Оптимизатор Adam и функция потерь MAE\n",
    "    return model\n",
    "\n",
    "def data_split_and_scaler(data, look_back=4, train_size_=0.8):\n",
    "    \"\"\"\n",
    "    Метод разбивает полученные данные data. В данных первый столбец - прогнозируемый признак.\\n Метод разбивает полученные данные на последовательности с заданой величиной последовательности look_back.\n",
    "    Затем данные маштабируются и формируются test и train массивы с заданной величиной тренировочного массива train_size_.\\n Также метод возращает scaler для дальнейшего обратного преобразования.\n",
    "    \"\"\"\n",
    "    X, y = prepare_data(data, look_back) # makes from data X and y arrays\n",
    "    n_features = len(data.columns) #calculate count of features\n",
    "\n",
    "    # Масштабирование данных (нормализация в диапазон [0, 1])\n",
    "    scaler = MinMaxScaler(feature_range=(0, 1))\n",
    "    X = scaler.fit_transform(X.reshape(-1, n_features)).reshape(X.shape[0], look_back, n_features)\n",
    "    y = scaler.fit_transform(y.reshape(-1, 1))\n",
    "\n",
    "    # Разделение данных на обучающую и тестовую выборки\n",
    "    train_size = int(len(X) * train_size_)\n",
    "    X_train, X_test = X[:train_size], X[train_size:] # данные должны бть последовательными, поэтому делю так\n",
    "    y_train, y_test = y[:train_size], y[train_size:]\n",
    "\n",
    "    return X_train, X_test, y_train, y_test, scaler"
   ]
  },
  {
   "cell_type": "code",
   "execution_count": 531,
   "id": "9046dad8-9ee0-497b-8d06-8e7c460b9a5a",
   "metadata": {},
   "outputs": [],
   "source": [
    "# Считывание данных\n",
    "# Погодные данные с open-meteo\n",
    "weather_data = pd.read_csv('weather data chernov.csv')\n",
    "\n",
    "weather_data = weather_data.rename(columns = {'time': 'Date'})\n",
    "weather_data.Date = pd.to_datetime(weather_data.Date, format='ISO8601', errors='coerce')\n",
    "# Данные переданные СО ЕЭС\n",
    "generation_data = pd.read_excel(\"Данные ОИК Черновская СЭС 01.05.2024 - 14.12.2024.xlsx\")\n",
    "new_column = generation_data.iloc[:,1] + generation_data.iloc[:,2]\n",
    "generation_data = generation_data.drop(generation_data.columns[[1,2]], axis=1)\n",
    "generation_data = generation_data.drop(0)\n",
    "generation_data.insert(1, 'ПГБР Pген ГОУ Черновская', new_column)\n",
    "columns_name = ['Date', 'Plan_X-1_Pgen', 'Fact_Pgen', 'Forecast_15_min', 'Forecast_30_min', 'Forecast_45_min', 'Forecast_60_min',\n",
    "               'Forecast_2_hour', 'Forecast_3_hour', 'Forecast_4_hour', 'Insolation', \"Temperature\", 'Wind_speed']\n",
    "generation_data.columns = columns_name\n",
    "generation_data = generation_data.reset_index(drop=True)\n",
    "generation_data.Date = pd.to_datetime(generation_data.Date)\n",
    "\n",
    "Pgen = generation_data[['Date', 'Fact_Pgen']] # оставляю только дату для merge и генерацию"
   ]
  },
  {
   "cell_type": "code",
   "execution_count": 533,
   "id": "2d554d62-37dc-42ba-8cb4-97afdb94e268",
   "metadata": {},
   "outputs": [],
   "source": [
    "# using open-meteo weather data\n",
    "data_merge = pd.merge(Pgen, weather_data, on='Date', how='left').drop_duplicates('Date') # Data merging\n",
    "data = data_merge.drop('Date', axis=1) # после слияние дата не нужна\n",
    "data = data.drop(['shortwave_radiation_instant (W/m²)', 'diffuse_radiation_instant (W/m²)'], axis=1) # shortwave is a sum of direct and diffuse radiation\n",
    "data = data.dropna()\n",
    "data['temperature_2m (°C)'] = data['temperature_2m (°C)'].astype(float) # was string format\n",
    "data = data.reset_index(drop=True)"
   ]
  },
  {
   "cell_type": "code",
   "execution_count": 484,
   "id": "5610a2c5-1cf7-4d33-a647-f8520f45b634",
   "metadata": {},
   "outputs": [
    {
     "name": "stderr",
     "output_type": "stream",
     "text": [
      "C:\\Users\\evb36\\AppData\\Local\\Temp\\ipykernel_2632\\3249728235.py:4: SettingWithCopyWarning: \n",
      "A value is trying to be set on a copy of a slice from a DataFrame.\n",
      "Try using .loc[row_indexer,col_indexer] = value instead\n",
      "\n",
      "See the caveats in the documentation: https://pandas.pydata.org/pandas-docs/stable/user_guide/indexing.html#returning-a-view-versus-a-copy\n",
      "  data['Fact_Pgen'] = pd.to_numeric(data['Fact_Pgen'], errors='raise')\n"
     ]
    }
   ],
   "source": [
    "# using SO weather data\n",
    "generation_data_weather = generation_data[['Fact_Pgen', 'Insolation', 'Temperature', 'Wind_speed']]\n",
    "data = generation_data_weather.dropna()\n",
    "data['Fact_Pgen'] = pd.to_numeric(data['Fact_Pgen'], errors='raise')"
   ]
  },
  {
   "cell_type": "code",
   "execution_count": 535,
   "id": "4f9b2306-4c15-40a3-a9f8-a28583c007b2",
   "metadata": {},
   "outputs": [],
   "source": [
    "data = data.drop('Fact_Pgen', axis=1)"
   ]
  },
  {
   "cell_type": "code",
   "execution_count": 537,
   "id": "2dd60d97-285b-45c9-831d-ef3b33a5cd9b",
   "metadata": {},
   "outputs": [],
   "source": [
    "# Use with open meteo\n",
    "data = data.reindex(columns=['direct_radiation_instant (W/m²)', 'temperature_2m (°C)', 'relative_humidity_2m (%)',\n",
    "       'precipitation (mm)', 'wind_speed_10m (m/s)'])#,\n",
    "       #'diffuse_radiation_instant (W/m²)'])"
   ]
  },
  {
   "cell_type": "code",
   "execution_count": 442,
   "id": "c04feaf1-5c41-4aaa-8377-30fa57ef94e5",
   "metadata": {},
   "outputs": [],
   "source": [
    "# Add to data feature Wind_speed_change_velocity which shows difference wind speed at the moment and wind speed at the previous moment\n",
    "wind_speed_velocity = []\n",
    "wind = data.Wind_speed\n",
    "for index in data.index:\n",
    "    velocity = wind.iloc[index] - wind.iloc[index-1]\n",
    "    wind_speed_velocity.append(velocity)\n",
    "data['Wind_speed_change_velocity'] = pd.DataFrame(wind_speed_velocity)#, columns= [\"Wind_speed_change_velocity\"])\n",
    "# pd.DataFrame(wind_speed_velocity, columns= [\"Wind_speed_change_velocity\"])"
   ]
  },
  {
   "cell_type": "code",
   "execution_count": 539,
   "id": "d10bed78-95ef-41dc-82a5-5a9fcbd75b31",
   "metadata": {},
   "outputs": [
    {
     "data": {
      "text/html": [
       "<div>\n",
       "<style scoped>\n",
       "    .dataframe tbody tr th:only-of-type {\n",
       "        vertical-align: middle;\n",
       "    }\n",
       "\n",
       "    .dataframe tbody tr th {\n",
       "        vertical-align: top;\n",
       "    }\n",
       "\n",
       "    .dataframe thead th {\n",
       "        text-align: right;\n",
       "    }\n",
       "</style>\n",
       "<table border=\"1\" class=\"dataframe\">\n",
       "  <thead>\n",
       "    <tr style=\"text-align: right;\">\n",
       "      <th></th>\n",
       "      <th>direct_radiation_instant (W/m²)</th>\n",
       "      <th>temperature_2m (°C)</th>\n",
       "      <th>relative_humidity_2m (%)</th>\n",
       "      <th>precipitation (mm)</th>\n",
       "      <th>wind_speed_10m (m/s)</th>\n",
       "    </tr>\n",
       "  </thead>\n",
       "  <tbody>\n",
       "    <tr>\n",
       "      <th>0</th>\n",
       "      <td>0.0</td>\n",
       "      <td>7.5</td>\n",
       "      <td>48.0</td>\n",
       "      <td>0.0</td>\n",
       "      <td>6.04</td>\n",
       "    </tr>\n",
       "    <tr>\n",
       "      <th>1</th>\n",
       "      <td>0.0</td>\n",
       "      <td>7.2</td>\n",
       "      <td>50.0</td>\n",
       "      <td>0.0</td>\n",
       "      <td>6.40</td>\n",
       "    </tr>\n",
       "    <tr>\n",
       "      <th>2</th>\n",
       "      <td>1.4</td>\n",
       "      <td>6.7</td>\n",
       "      <td>51.0</td>\n",
       "      <td>0.0</td>\n",
       "      <td>6.65</td>\n",
       "    </tr>\n",
       "    <tr>\n",
       "      <th>3</th>\n",
       "      <td>2.5</td>\n",
       "      <td>6.2</td>\n",
       "      <td>52.0</td>\n",
       "      <td>0.0</td>\n",
       "      <td>6.80</td>\n",
       "    </tr>\n",
       "    <tr>\n",
       "      <th>4</th>\n",
       "      <td>1.2</td>\n",
       "      <td>5.8</td>\n",
       "      <td>53.0</td>\n",
       "      <td>0.0</td>\n",
       "      <td>6.79</td>\n",
       "    </tr>\n",
       "    <tr>\n",
       "      <th>...</th>\n",
       "      <td>...</td>\n",
       "      <td>...</td>\n",
       "      <td>...</td>\n",
       "      <td>...</td>\n",
       "      <td>...</td>\n",
       "    </tr>\n",
       "    <tr>\n",
       "      <th>21883</th>\n",
       "      <td>0.0</td>\n",
       "      <td>-14.9</td>\n",
       "      <td>71.0</td>\n",
       "      <td>0.0</td>\n",
       "      <td>1.48</td>\n",
       "    </tr>\n",
       "    <tr>\n",
       "      <th>21884</th>\n",
       "      <td>0.0</td>\n",
       "      <td>-15.1</td>\n",
       "      <td>71.0</td>\n",
       "      <td>0.0</td>\n",
       "      <td>1.48</td>\n",
       "    </tr>\n",
       "    <tr>\n",
       "      <th>21885</th>\n",
       "      <td>0.0</td>\n",
       "      <td>-15.2</td>\n",
       "      <td>71.0</td>\n",
       "      <td>0.0</td>\n",
       "      <td>1.48</td>\n",
       "    </tr>\n",
       "    <tr>\n",
       "      <th>21886</th>\n",
       "      <td>0.0</td>\n",
       "      <td>-15.4</td>\n",
       "      <td>72.0</td>\n",
       "      <td>0.0</td>\n",
       "      <td>1.44</td>\n",
       "    </tr>\n",
       "    <tr>\n",
       "      <th>21887</th>\n",
       "      <td>0.0</td>\n",
       "      <td>-15.6</td>\n",
       "      <td>72.0</td>\n",
       "      <td>0.0</td>\n",
       "      <td>1.42</td>\n",
       "    </tr>\n",
       "  </tbody>\n",
       "</table>\n",
       "<p>21888 rows × 5 columns</p>\n",
       "</div>"
      ],
      "text/plain": [
       "       direct_radiation_instant (W/m²)  temperature_2m (°C)  \\\n",
       "0                                  0.0                  7.5   \n",
       "1                                  0.0                  7.2   \n",
       "2                                  1.4                  6.7   \n",
       "3                                  2.5                  6.2   \n",
       "4                                  1.2                  5.8   \n",
       "...                                ...                  ...   \n",
       "21883                              0.0                -14.9   \n",
       "21884                              0.0                -15.1   \n",
       "21885                              0.0                -15.2   \n",
       "21886                              0.0                -15.4   \n",
       "21887                              0.0                -15.6   \n",
       "\n",
       "       relative_humidity_2m (%)  precipitation (mm)  wind_speed_10m (m/s)  \n",
       "0                          48.0                 0.0                  6.04  \n",
       "1                          50.0                 0.0                  6.40  \n",
       "2                          51.0                 0.0                  6.65  \n",
       "3                          52.0                 0.0                  6.80  \n",
       "4                          53.0                 0.0                  6.79  \n",
       "...                         ...                 ...                   ...  \n",
       "21883                      71.0                 0.0                  1.48  \n",
       "21884                      71.0                 0.0                  1.48  \n",
       "21885                      71.0                 0.0                  1.48  \n",
       "21886                      72.0                 0.0                  1.44  \n",
       "21887                      72.0                 0.0                  1.42  \n",
       "\n",
       "[21888 rows x 5 columns]"
      ]
     },
     "execution_count": 539,
     "metadata": {},
     "output_type": "execute_result"
    }
   ],
   "source": [
    "data"
   ]
  },
  {
   "cell_type": "code",
   "execution_count": 541,
   "id": "0ed2da45-6ca2-4689-9e3e-7ea80debbea6",
   "metadata": {},
   "outputs": [],
   "source": [
    "# Create train and test data\n",
    "n_features = len(data.columns)\n",
    "X_train, X_test, y_train, y_test, scaler = data_split_and_scaler(data, look_back=12, train_size_=0.8)"
   ]
  },
  {
   "cell_type": "code",
   "execution_count": 547,
   "id": "cfc5c9d3-5601-4e79-9cd6-d4c1968a010e",
   "metadata": {},
   "outputs": [
    {
     "name": "stderr",
     "output_type": "stream",
     "text": [
      "C:\\Users\\evb36\\AppData\\Local\\anaconda3\\Lib\\site-packages\\keras\\src\\layers\\rnn\\rnn.py:200: UserWarning: Do not pass an `input_shape`/`input_dim` argument to a layer. When using Sequential models, prefer using an `Input(shape)` object as the first layer in the model instead.\n",
      "  super().__init__(**kwargs)\n"
     ]
    }
   ],
   "source": [
    "model = create_LSTM_model(n_features=n_features, LSTM_units=300, activation_='relu', look_back=12, loss_='mae', dropout=0.2, optimizer_='adam')"
   ]
  },
  {
   "cell_type": "code",
   "execution_count": 549,
   "id": "f9a711f8-362a-47ec-b41f-808117d8e491",
   "metadata": {},
   "outputs": [
    {
     "name": "stdout",
     "output_type": "stream",
     "text": [
      "Epoch 1/5\n",
      "\u001b[1m547/547\u001b[0m \u001b[32m━━━━━━━━━━━━━━━━━━━━\u001b[0m\u001b[37m\u001b[0m \u001b[1m6s\u001b[0m 8ms/step - loss: 0.0553 - mse: 0.0105 - val_loss: 0.0088 - val_mse: 1.4271e-04\n",
      "Epoch 2/5\n",
      "\u001b[1m547/547\u001b[0m \u001b[32m━━━━━━━━━━━━━━━━━━━━\u001b[0m\u001b[37m\u001b[0m \u001b[1m4s\u001b[0m 8ms/step - loss: 0.0192 - mse: 9.8287e-04 - val_loss: 0.0092 - val_mse: 1.2601e-04\n",
      "Epoch 3/5\n",
      "\u001b[1m547/547\u001b[0m \u001b[32m━━━━━━━━━━━━━━━━━━━━\u001b[0m\u001b[37m\u001b[0m \u001b[1m4s\u001b[0m 8ms/step - loss: 0.0149 - mse: 6.2899e-04 - val_loss: 0.0035 - val_mse: 3.3246e-05\n",
      "Epoch 4/5\n",
      "\u001b[1m547/547\u001b[0m \u001b[32m━━━━━━━━━━━━━━━━━━━━\u001b[0m\u001b[37m\u001b[0m \u001b[1m4s\u001b[0m 8ms/step - loss: 0.0126 - mse: 4.6941e-04 - val_loss: 0.0042 - val_mse: 3.8129e-05\n",
      "Epoch 5/5\n",
      "\u001b[1m547/547\u001b[0m \u001b[32m━━━━━━━━━━━━━━━━━━━━\u001b[0m\u001b[37m\u001b[0m \u001b[1m5s\u001b[0m 8ms/step - loss: 0.0122 - mse: 4.2595e-04 - val_loss: 0.0034 - val_mse: 3.0311e-05\n"
     ]
    }
   ],
   "source": [
    "history = model.fit(X_train, y_train, epochs=5, validation_data=(X_test, y_test), verbose=1)"
   ]
  },
  {
   "cell_type": "code",
   "execution_count": 551,
   "id": "96668b83-2cee-46e4-80ef-1e1ecc0aeea7",
   "metadata": {},
   "outputs": [
    {
     "data": {
      "image/png": "[encoded data removed]",
      "text/plain": [
       "<Figure size 640x480 with 1 Axes>"
      ]
     },
     "metadata": {},
     "output_type": "display_data"
    }
   ],
   "source": [
    "# Визуализация процесса обучения\n",
    "plt.plot(history.history['loss'], label='Ошибка на обучении')\n",
    "plt.plot(history.history['val_loss'], label='Ошибка на валидации')\n",
    "plt.title('График ошибки')\n",
    "plt.xlabel('Эпохи')\n",
    "plt.ylabel('Ошибка (MAE)')\n",
    "plt.legend()\n",
    "plt.show()"
   ]
  },
  {
   "cell_type": "code",
   "execution_count": 553,
   "id": "2716e66d-1f29-4a94-bf6d-8928dec92c90",
   "metadata": {},
   "outputs": [
    {
     "name": "stdout",
     "output_type": "stream",
     "text": [
      "\u001b[1m137/137\u001b[0m \u001b[32m━━━━━━━━━━━━━━━━━━━━\u001b[0m\u001b[37m\u001b[0m \u001b[1m1s\u001b[0m 4ms/step   \n"
     ]
    }
   ],
   "source": [
    "# Прогнозирование на тестовых данных\n",
    "y_pred = model.predict(X_test)\n",
    "\n",
    "# Обратное масштабирование данных для сравнения с реальными значениями\n",
    "y_test_original = scaler.inverse_transform(y_test)\n",
    "y_pred_original = scaler.inverse_transform(y_pred)"
   ]
  },
  {
   "cell_type": "code",
   "execution_count": 555,
   "id": "6755ffce-b95b-4d00-b474-8f1b91c58d75",
   "metadata": {},
   "outputs": [
    {
     "data": {
      "text/plain": [
       "2.7540380989598656"
      ]
     },
     "execution_count": 555,
     "metadata": {},
     "output_type": "execute_result"
    }
   ],
   "source": [
    "# Check the metrics on the full test data\n",
    "mae = metrics.mean_absolute_error(y_test_original, y_pred_original)\n",
    "mse = metrics.mean_squared_error(y_test_original, y_pred_original)\n",
    "# mape = metrics.mean_absolute_percentage_error(y_test_original, y_pred_original)\n",
    "mae"
   ]
  },
  {
   "cell_type": "code",
   "execution_count": 586,
   "id": "340344a5-cc3c-4748-87bb-494d819b1b2d",
   "metadata": {},
   "outputs": [
    {
     "data": {
      "text/plain": [
       "5.576515731275082"
      ]
     },
     "execution_count": 586,
     "metadata": {},
     "output_type": "execute_result"
    }
   ],
   "source": [
    "# Check the metrics on the deffined interval\n",
    "min_interval = 1300\n",
    "max_interval = 1350\n",
    "mae = metrics.mean_absolute_error(y_test_original[min_interval:max_interval], y_pred_original[min_interval:max_interval])\n",
    "# print(f\"MSE на тестовых данных: {mse}\")\n",
    "mae"
   ]
  },
  {
   "cell_type": "code",
   "execution_count": 588,
   "id": "f2ce7c80-f8bc-4c48-9c0c-eb5e6865e339",
   "metadata": {},
   "outputs": [
    {
     "data": {
      "image/png": "[encoded data removed]",
      "text/plain": [
       "<Figure size 640x480 with 1 Axes>"
      ]
     },
     "metadata": {},
     "output_type": "display_data"
    }
   ],
   "source": [
    "# Визуализация результатов на интервале\n",
    "plt.plot(y_test_original[min_interval:max_interval], label='Реальные значения')\n",
    "plt.plot(y_pred_original[min_interval:max_interval], label='Прогнозируемые значения')\n",
    "plt.title('Сравнение реальных и прогнозируемых значений')\n",
    "plt.xlabel('Номер среза')\n",
    "plt.ylabel('Инсоляция, Вт/м2')\n",
    "plt.legend()\n",
    "plt.show()"
   ]
  },
  {
   "cell_type": "code",
   "execution_count": null,
   "id": "03111fcd-af0e-47a7-8137-18ab3bf9c9f3",
   "metadata": {},
   "outputs": [],
   "source": []
  }
 ],
 "metadata": {
  "kernelspec": {
   "display_name": "Python 3 (ipykernel)",
   "language": "python",
   "name": "python3"
  },
  "language_info": {
   "codemirror_mode": {
    "name": "ipython",
    "version": 3
   },
   "file_extension": ".py",
   "mimetype": "text/x-python",
   "name": "python",
   "nbconvert_exporter": "python",
   "pygments_lexer": "ipython3",
   "version": "3.12.4"
  }
 },
 "nbformat": 4,
 "nbformat_minor": 5
}
